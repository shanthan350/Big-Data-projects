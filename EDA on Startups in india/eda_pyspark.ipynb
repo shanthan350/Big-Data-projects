{
 "cells": [
  {
   "cell_type": "markdown",
   "id": "24b65821",
   "metadata": {},
   "source": [
    "# Spark EDA\n",
    "\n",
    "\n",
    "- Analyze it using Spark and answer the following questions: \n",
    "> 1. Find which `sector` has the most startups\n",
    "> 2. Split the `Location of company` into 2 columns, `state` and `city`. If state is not present then keep it as null \n",
    "> 3. If `Location of company` column has a data `DIAT,Pune` then set \n",
    "    `state` as `Maharashtra` and `city` as `DIAT Pune`.\n",
    "> 4. If `Location of company` column has a data `Ulhasnagar` then \n",
    "    set `state` as `Maharashtra` and `city` as `Ulhasnagar`\n",
    "> 5. Find which State has the max number of startups\n",
    "> 6. Find all the startups from `Maharashtra`.\n",
    "> 7. How many startups were formed in `Healthcare` sector\n",
    "> 8. Display all startups from `Pune` and `Nashik`\n",
    "> 9. Sort the cities in `Maharashtra` in descending order of the \n",
    "    count of startups\n",
    "> 10. How many startups are in South India. That is states \n",
    "    `Karnataka`, `Tamilnadu`, `Telangana`, `Andhra Pradesh`\n",
    "> 11. How many startups are in `Gujarat`\n",
    "> 12. How many startups are in North India.That is states other than \n",
    "    `Karnataka`, `Tamilnadu`, `Telangana`, `Andhra Pradesh` and \n",
    "    `Maharashtra`\n",
    "> 13. What is the percentage of startup initiative from South India \n",
    "    and Maharashtra\n",
    "> 14. What is the percentage contribution of startup from Maharashtra\n",
    "> 15. What is the percentage contribution of startup from Gujarat\n",
    "> 16. Replace `state` with null values to `Unknown`\n"
   ]
  },
  {
   "cell_type": "code",
   "execution_count": 400,
   "id": "cc0b6d9b",
   "metadata": {},
   "outputs": [],
   "source": [
    "#Entrypoint 2 spark\n",
    "from pyspark.sql import SparkSession\n",
    "spark = SparkSession.builder.appName(\"Spark SQL basic example\").getOrCreate()\n",
    "\n",
    "# On yarn:\n",
    "# spark = SparkSession.builder.appName(\"Spark SQL basic example\").enableHiveSupport().master(\"yarn\").getOrCreate()\n",
    "# specify .master(\"yarn\")\n",
    "\n",
    "#sc = spark.sparkContext"
   ]
  },
  {
   "cell_type": "markdown",
   "id": "d8a719a6",
   "metadata": {},
   "source": [
    "## 1.Find which sector has the most startups"
   ]
  },
  {
   "cell_type": "code",
   "execution_count": 401,
   "id": "ee004e5f",
   "metadata": {},
   "outputs": [
    {
     "name": "stdout",
     "output_type": "stream",
     "text": [
      "+--------------------+----------------------+\n",
      "|              Sector|num_startups_vs_sector|\n",
      "+--------------------+----------------------+\n",
      "|          Healthcare|                    34|\n",
      "|            Agritech|                     5|\n",
      "|Education Technology|                     5|\n",
      "|     ICT Electronics|                     5|\n",
      "|                 IOT|                     4|\n",
      "|      Digital Health|                     4|\n",
      "|                 IoT|                     4|\n",
      "|             EduTech|                     3|\n",
      "|              EdTech|                     3|\n",
      "| Digital Health Tech|                     3|\n",
      "|          Healthtech|                     3|\n",
      "|            Fit-Tech|                     2|\n",
      "|           Education|                     2|\n",
      "|              Energy|                     2|\n",
      "|                  EV|                     2|\n",
      "|Information Techn...|                     2|\n",
      "|             Fintech|                     2|\n",
      "|        Clean Energy|                     2|\n",
      "|Industrial Automa...|                     2|\n",
      "|         Agriculture|                     2|\n",
      "|               AR/VR|                     2|\n",
      "|            Robotics|                     2|\n",
      "|                 ICT|                     2|\n",
      "|          Space Tech|                     2|\n",
      "|       Manufacturing|                     2|\n",
      "|   Skilling & Edtech|                     1|\n",
      "|multi-sector (B2B...|                     1|\n",
      "|IT, IoT, Retail, ...|                     1|\n",
      "|Construction / Sm...|                     1|\n",
      "|            Services|                     1|\n",
      "|Business Intelleg...|                     1|\n",
      "|         Health Tech|                     1|\n",
      "|         Retail Tech|                     1|\n",
      "| Aerospace & Defence|                     1|\n",
      "|    Ed Tech, Defence|                     1|\n",
      "|           Dronetech|                     1|\n",
      "|Autonomous Vehicl...|                     1|\n",
      "|Cleantech and Env...|                     1|\n",
      "|Aerospace and Def...|                     1|\n",
      "|           ICT & IoT|                     1|\n",
      "|Smart infrastruct...|                     1|\n",
      "|Railways, transpo...|                     1|\n",
      "|          E-mobility|                     1|\n",
      "|           Edutech /|                     1|\n",
      "|             AI - ML|                     1|\n",
      "|          E-Mobility|                     1|\n",
      "|IOT based Renewab...|                     1|\n",
      "|           Cleantech|                     1|\n",
      "|Aerospace and def...|                     1|\n",
      "|         Block chain|                     1|\n",
      "|Infra and Transpo...|                     1|\n",
      "|Bioprocess and ag...|                     1|\n",
      "|Agri Tech, Robotics,|                     1|\n",
      "|3d printer and cn...|                     1|\n",
      "|      Medical Device|                     1|\n",
      "|                  HR|                     1|\n",
      "| Hardware Technology|                     1|\n",
      "|Industril Automation|                     1|\n",
      "|         agriculture|                     1|\n",
      "|          RetailTech|                     1|\n",
      "|    Renewable Energy|                     1|\n",
      "|Medical Diagnosti...|                     1|\n",
      "|Robotics / Automa...|                     1|\n",
      "|   Electric Vechiles|                     1|\n",
      "|    RENEWABLE ENERGY|                     1|\n",
      "|                ITES|                     1|\n",
      "|              Travel|                     1|\n",
      "|            Aviation|                     1|\n",
      "|Aerospace, UAV, D...|                     1|\n",
      "|         AGRICULTURE|                     1|\n",
      "|   Electric vehicles|                     1|\n",
      "|Electronics and W...|                     1|\n",
      "|             HR Tech|                     1|\n",
      "|Manufacturing IOT...|                     1|\n",
      "|Industrial Digita...|                     1|\n",
      "|Digital Health he...|                     1|\n",
      "|      Communications|                     1|\n",
      "|           Agri tech|                     1|\n",
      "|Artificial Intell...|                     1|\n",
      "|IoT- manufacturin...|                     1|\n",
      "|      nanotechnology|                     1|\n",
      "|         Electronics|                     1|\n",
      "|Embedded Electronics|                     1|\n",
      "|Aerospace & Defen...|                     1|\n",
      "|           Face Mask|                     1|\n",
      "|          Clean tech|                     1|\n",
      "|Information and C...|                     1|\n",
      "|Biotech/ Bio-info...|                     1|\n",
      "|   Agri-Supply Chain|                     1|\n",
      "|             Medtech|                     1|\n",
      "| Enterprise Solution|                     1|\n",
      "|         VR/AR/MR/XR|                     1|\n",
      "|Urban Transportation|                     1|\n",
      "|       Agri-business|                     1|\n",
      "|     Future Mobility|                     1|\n",
      "|Clean and Health ...|                     1|\n",
      "|Multiple (Assisti...|                     1|\n",
      "|        MicroFinance|                     1|\n",
      "|\"\"\"Low Income Wor...|                     1|\n",
      "|A.I. (Computer Vi...|                     1|\n",
      "+--------------------+----------------------+\n",
      "only showing top 100 rows\n",
      "\n"
     ]
    }
   ],
   "source": [
    "\n",
    "file_path = \"Listofstartups.csv\"\n",
    "\n",
    "startup = spark.read.csv(file_path, header=True, inferSchema=True)\n",
    "\n",
    "startup.createOrReplaceTempView(\"startup\")\n",
    "\n",
    "query = '''SELECT Sector,count(Name_of_startup) as num_startups_vs_sector FROM startup group by Sector order by count(Name_of_startup) desc'''\n",
    "#order by count(Name_of_startup)\n",
    "#query = '''SELECT *  FROM startup'''\n",
    "startups_query = spark.sql(query)\n",
    "\n",
    "startups_query.show(100)\n",
    "\n"
   ]
  },
  {
   "cell_type": "markdown",
   "id": "6370569a",
   "metadata": {},
   "source": [
    "### 2. Split the Location of company into 2 columns, state and city. If state is not present then keep it as null "
   ]
  },
  {
   "cell_type": "code",
   "execution_count": 402,
   "id": "b56774aa",
   "metadata": {},
   "outputs": [
    {
     "name": "stdout",
     "output_type": "stream",
     "text": [
      "+--------------------+--------------------+--------------------+------------------+--------------------+\n",
      "|   Incubation_Center|     Name_of_startup| Location of company|            Sector|              splits|\n",
      "+--------------------+--------------------+--------------------+------------------+--------------------+\n",
      "|      ABES Ghaziabad|            Suryansh|           New Delhi|            EdTech|         [New Delhi]|\n",
      "|AIC Banasthali Vi...|Thinkpods Educati...| Satara, Maharashtra|           Ed Tech|[Satara,  Maharas...|\n",
      "|AIC Banasthali Vi...|Inventiway Soluti...| Mumbai, Maharashtra|           HR Tech|[Mumbai,  Maharas...|\n",
      "|AIC Banasthali Vi...|C2M Internet Indi...|Lucknow, Uttar Pr...|       Retail Tech|[Lucknow,  Uttar ...|\n",
      "|AIC Pinnacle Entr...|            Wastinno|   Pune, Maharashtra|       agriculture|[Pune,  Maharashtra]|\n",
      "|AIC Pinnacle Entr...|Diabetico - Rise ...|   Pune, Maharashtra|        Healthcare|[Pune,  Maharashtra]|\n",
      "|AIC Pinnacle Entr...|  3DGuru Innovations|   Pune, Maharashtra|           EduTech|[Pune,  Maharashtra]|\n",
      "|AIC Pinnacle Entr...|     Gupte Education|   Pune, Maharashtra|  Ed Tech, Defence|[Pune,  Maharashtra]|\n",
      "|AIC Pinnacle Entr...|Eldew Digital Pvt...|   Pune, Maharashtra|IT, Virtual Events|[Pune,  Maharashtra]|\n",
      "|AIC Pinnacle Entr...|Secumatic Technol...|   Pune, Maharashtra|           Defense|[Pune,  Maharashtra]|\n",
      "+--------------------+--------------------+--------------------+------------------+--------------------+\n",
      "only showing top 10 rows\n",
      "\n"
     ]
    }
   ],
   "source": [
    "import pyspark.sql.functions as F\n",
    "from pyspark.sql.functions import split, col, when, size, trim,lower,initcap\n",
    "\n",
    "startup = startup.withColumn('splits', F.split(startup[\"Location of company\"],','))\n",
    "startup.show(10)"
   ]
  },
  {
   "cell_type": "code",
   "execution_count": 403,
   "id": "8b02a104",
   "metadata": {},
   "outputs": [
    {
     "name": "stdout",
     "output_type": "stream",
     "text": [
      "+--------------------+--------------------+------------------+---------+-------------+\n",
      "|   Incubation_Center|     Name_of_startup|            Sector|     city|        state|\n",
      "+--------------------+--------------------+------------------+---------+-------------+\n",
      "|      ABES Ghaziabad|            Suryansh|            EdTech|New Delhi|         null|\n",
      "|AIC Banasthali Vi...|Thinkpods Educati...|           Ed Tech|   Satara|  Maharashtra|\n",
      "|AIC Banasthali Vi...|Inventiway Soluti...|           HR Tech|   Mumbai|  Maharashtra|\n",
      "|AIC Banasthali Vi...|C2M Internet Indi...|       Retail Tech|  Lucknow|Uttar Pradesh|\n",
      "|AIC Pinnacle Entr...|            Wastinno|       agriculture|     Pune|  Maharashtra|\n",
      "|AIC Pinnacle Entr...|Diabetico - Rise ...|        Healthcare|     Pune|  Maharashtra|\n",
      "|AIC Pinnacle Entr...|  3DGuru Innovations|           EduTech|     Pune|  Maharashtra|\n",
      "|AIC Pinnacle Entr...|     Gupte Education|  Ed Tech, Defence|     Pune|  Maharashtra|\n",
      "|AIC Pinnacle Entr...|Eldew Digital Pvt...|IT, Virtual Events|     Pune|  Maharashtra|\n",
      "|AIC Pinnacle Entr...|Secumatic Technol...|           Defense|     Pune|  Maharashtra|\n",
      "+--------------------+--------------------+------------------+---------+-------------+\n",
      "only showing top 10 rows\n",
      "\n"
     ]
    }
   ],
   "source": [
    "startup = startup.withColumn('city', initcap(lower(trim(col('splits').getItem(0)))))\n",
    "startup = startup.withColumn('state', when(size('splits')==2,initcap(lower(trim(col('splits').getItem(1))))))\n",
    "startup=startup.drop('splits')\n",
    "startup=startup.drop('Location of company')\n",
    "#startup['state']=startup['state'].str.strip()\n",
    "startup.show(10)"
   ]
  },
  {
   "cell_type": "markdown",
   "id": "850af9ad",
   "metadata": {},
   "source": [
    "### 3. If Location of company column has a data DIAT,Pune then set state as Maharashtra and city as DIAT Pune"
   ]
  },
  {
   "cell_type": "code",
   "execution_count": 404,
   "id": "1fe6f184",
   "metadata": {},
   "outputs": [
    {
     "name": "stdout",
     "output_type": "stream",
     "text": [
      "+--------------------+--------------------+--------------------+--------------+--------------+\n",
      "|   Incubation_Center|     Name_of_startup|              Sector|          city|         state|\n",
      "+--------------------+--------------------+--------------------+--------------+--------------+\n",
      "|      ABES Ghaziabad|            Suryansh|              EdTech|     New Delhi|          null|\n",
      "|AIC Banasthali Vi...|Thinkpods Educati...|             Ed Tech|        Satara|   Maharashtra|\n",
      "|AIC Banasthali Vi...|Inventiway Soluti...|             HR Tech|        Mumbai|   Maharashtra|\n",
      "|AIC Banasthali Vi...|C2M Internet Indi...|         Retail Tech|       Lucknow| Uttar Pradesh|\n",
      "|AIC Pinnacle Entr...|            Wastinno|         agriculture|     DIAT Pune|   Maharashtra|\n",
      "|AIC Pinnacle Entr...|Diabetico - Rise ...|          Healthcare|     DIAT Pune|   Maharashtra|\n",
      "|AIC Pinnacle Entr...|  3DGuru Innovations|             EduTech|     DIAT Pune|   Maharashtra|\n",
      "|AIC Pinnacle Entr...|     Gupte Education|    Ed Tech, Defence|     DIAT Pune|   Maharashtra|\n",
      "|AIC Pinnacle Entr...|Eldew Digital Pvt...|  IT, Virtual Events|     DIAT Pune|   Maharashtra|\n",
      "|AIC Pinnacle Entr...|Secumatic Technol...|             Defense|     DIAT Pune|   Maharashtra|\n",
      "|AIC Pinnacle Entr...|Catalystgreen Pri...|          E-Mobility|     DIAT Pune|   Maharashtra|\n",
      "|AIC Pinnacle Entr...|Dynateq Consultin...|Industril Automation|     DIAT Pune|   Maharashtra|\n",
      "|           AIC@36Inc|               TECHB|3d printer and cn...|        Bhilai|          null|\n",
      "|           AIC@36Inc|Acculegal Service...|Finance, Legal , ...|        Raipur|          null|\n",
      "|           AIC@36Inc|Bastar Se Bazar T...|       Agri-business|  Uttar Bastar|          null|\n",
      "|           AIC@36Inc|          Coshal Art|          Handicraft|        Raipur|          null|\n",
      "|           AIC@36Inc|           Jivandeep|          Healthcare|        Raipur|          null|\n",
      "|           AIC@36Inc|  Binomial Analytics|IT and Technology...|        Raipur|          null|\n",
      "|           AIC@36Inc|              Rawfit|Heathcare & Wellness|        Raipur|          null|\n",
      "|           AIC@36Inc|           WedNicely|eInvitations & We...|        Raipur|          null|\n",
      "|Amity Technology ...|Plabs Solutions P...|          Healthtech|     Ghaziabad| Uttar Pradesh|\n",
      "|Amity University ...|        nanoLatticeX|      nanotechnology|      Gurugram|       Haryana|\n",
      "|Amity University ...|NanoMask (It is o...|           Face Mask|      Gurugram|       Haryana|\n",
      "|Atal Incubation C...|Neoinventronix Pv...|     ICT Electronics|     Hyderabad|     Telangana|\n",
      "|Atal Incubation C...|Binford Research ...|     ICT Electronics|     Hyderabad|     Telangana|\n",
      "|Atal Incubation C...|Nimaya Robotics P...|     ICT Electronics|       Chennai|     Tamilnadu|\n",
      "|Atal Incubation C...|Rmatics Solutions...|     ICT Electronics|     Hyderabad|     Telangana|\n",
      "|Atal Incubation C...|Eurth Techtronics...|     ICT Electronics|    Vijayawada|Andhra Pradesh|\n",
      "|                 BEA|  Ozzie Technologies|Information Techn...|       Kolkata|   West Bengal|\n",
      "|Bio-incubator at ...|Predible Health P...|          Healthcare|     Bengaluru|     Karnataka|\n",
      "|Bio-incubator at ...|Personal Air Qual...|Product designer ...|     Bengaluru|     Karnataka|\n",
      "|Bio-incubator at ...|Salcit Technologi...|      Digital Health|     Hyderabad|     Telangana|\n",
      "|Bio-incubator at ...|AgSmartic Technol...|            Agritech|     New Delhi|          null|\n",
      "|Bio-incubator at ...|Aikenist Technolo...|      Digital Health|     Bengaluru|     Karnataka|\n",
      "|Bio-incubator at ...|    ARQ Solution LLP|          Healthcare|        Mumbai|   Maharashtra|\n",
      "|Bio-incubator at ...|Xensible Innovati...|      Digital Health|     Bengaluru|     Karnataka|\n",
      "|Bio-incubator at ...|Sensai Healthcare...|      Digital Health|     Bengaluru|     Karnataka|\n",
      "|Centre for Innova...|Rekindle Automati...|          Healthcare|       Chennai|     Tamilnadu|\n",
      "|Centre for Innova...|Hivericks Technol...|          Clean Tech|       Chennai|     Tamilnadu|\n",
      "|Centre for Innova...|MedCuore Medical ...|          Retail CRM|       Chennai|     Tamilnadu|\n",
      "|Centre for Innova...|MedCuore Medical ...|          Healthcare|       Chennai|     Tamilnadu|\n",
      "|Centre for Innova...|     Nandha Infotech|         Agriculture|    Coimbatore|    Tamil Nadu|\n",
      "|Chitkara innovati...|Xovian Aerospace ...|Aerospace and def...|     Bengaluru|     Karnataka|\n",
      "|Chitkara innovati...|Dagriation Soluti...|    IT & Electronics|        Karnal|          null|\n",
      "|Chitkara innovati...|Murph Technologie...|                 IOT|    Chandigarh|          null|\n",
      "|Chitkara innovati...|  6DOF Solutions LLP|               AR/VR|    Chandigarh|          null|\n",
      "|Chitkara innovati...|Hackspace Securit...|          Healthcare|         Delhi|         Delhi|\n",
      "|Chitkara innovati...|Sustainergic Tech...|                 IOT|    Chandigarh|          null|\n",
      "|    CIIE Initiatives|            GalaxEye|Smart infrastructure|       Chennai|     Tamilnadu|\n",
      "|    CIIE Initiatives|Extrawatts Renewa...|Cleantech and Env...|     New Delhi|          null|\n",
      "|    CIIE Initiatives|      Urban Air Labs|          Clean tech|         Delhi|         Delhi|\n",
      "|    CIIE Initiatives|Nunam Technology ...|           Cleantech|     Bengaluru|     Karnataka|\n",
      "|    CIIE Initiatives|             Kidaura|          Healthcare|        Nashik|   Maharashtra|\n",
      "|    CIIE Initiatives|        Aiborne Tech|   Skilling & Edtech|         Delhi|         Delhi|\n",
      "|    CIIE Initiatives|      Pacify Medical|          Healthcare|        Mumbai|   Maharashtra|\n",
      "|    CIIE Initiatives|             Evoluto|          Healthcare|     Bengaluru|     Karnataka|\n",
      "|    CIIE Initiatives|     Redicine Medsol|          Healthcare|     Ahmedabad|       Gujarat|\n",
      "|    CIIE Initiatives|           Minocular|Smart infrastruct...|        Raipur|          null|\n",
      "|    CIIE Initiatives|Godaam Innovation...|            Agritech|        Nashik|   Maharashtra|\n",
      "|    CIIE Initiatives|  Articulus Surgical|          Healthcare|     Bengaluru|     Karnataka|\n",
      "|                CTIE|Encephalon Solutions|             Medical|         Hubli|     Karnataka|\n",
      "|    DERBI Foundation|Backyard Creators...|          Healthcare|      Madhurai|          null|\n",
      "|    DERBI Foundation|   Machphy Solutions|          Healthcare|   Bhubaneswar|          null|\n",
      "|    DERBI Foundation|  Fititout Solutions|          Healthcare|       Chennai|     Tamilnadu|\n",
      "|    DERBI Foundation|Carbon Hubs Priva...|Clean and Health ...|     Bengaluru|     Karnataka|\n",
      "|    DERBI Foundation|Prayasta 3D Inven...|          Healthcare|     Bengaluru|     Karnataka|\n",
      "|    DERBI Foundation|Acculi Labs Pvt Ltd.|          Healthcare|     Bengaluru|     Karnataka|\n",
      "|    DERBI Foundation|Hinnts Consultanc...|          Healthcare|     Bengaluru|     Karnataka|\n",
      "|FIRST SIIC IIT Ka...|WeRehab Technolog...|         Health Tech|        Kanpur| Uttar Pradesh|\n",
      "|FIRST SIIC IIT Ka...|Campus Haat Solut...|     Social Commerce|        Kanpur| Uttar Pradesh|\n",
      "|     FITT, IIT Delhi|Dweepi Innovation...|Railways, transpo...| Visakhapatnam|          null|\n",
      "|     FITT, IIT Delhi|Trydan Motors Pri...|          E-mobility|     New Delhi|          null|\n",
      "|     FITT, IIT Delhi|Let's Farm (Shvaa...|           Agri-Tech|        Jaipur|     Rajasthan|\n",
      "|     FITT, IIT Delhi|Ambrosius Tech Pv...|              EdTech|        Satara|   Maharashtra|\n",
      "|     FITT, IIT Delhi|Materate Educatio...|           Education|     New Delhi|          null|\n",
      "|     FITT, IIT Delhi|Neem Tree Agro So...|            AgriTech|         Delhi|         Delhi|\n",
      "|     FITT, IIT Delhi|MeuKron Technologies|          Healthcare|      Belagavi|     Karnataka|\n",
      "|     FITT, IIT Delhi|NextLeap Aeronaut...|Aerospace, UAV, D...|     Bengaluru|     Karnataka|\n",
      "|     FITT, IIT Delhi|Andromeida Mariti...|            Robotics|      Gurugram|       Haryana|\n",
      "|     FITT, IIT Delhi|  Ominar Innovations|Digital Health he...|     DIAT Pune|   Maharashtra|\n",
      "|Forge (Coimbatore...|BigDipper Explora...|          Space Tech|         Delhi|         Delhi|\n",
      "|Forge (Coimbatore...|Abhaya Informatio...| Digital Health Tech|        Mumbai|   Maharashtra|\n",
      "|Forge (Coimbatore...|TestedOK Technolo...|Industrial Digita...|    Coimbatore|    Tamil Nadu|\n",
      "|Forge (Coimbatore...|        PQSI Digital|Industry Digital ...|       Chennai|     Tamilnadu|\n",
      "|Forge (Coimbatore...|Torus Robotics Pv...|     Future Mobility|       Chennai|     Tamilnadu|\n",
      "|Forge (Coimbatore...|ExactSpace Techno...|Industrial Digita...|     Bengaluru|     Karnataka|\n",
      "|Forge (Coimbatore...|      Aindra Systems| Digital Health Tech|     Bengaluru|     Karnataka|\n",
      "|Forge (Coimbatore...|Blackfrog Technol...| Digital Health Tech|       Manipal|     Karnataka|\n",
      "|Foundation for Te...|Yarev Technology ...|                 IoT|      Rourkela|          null|\n",
      "|Foundation for Te...|Clavictor Academy...|Education Technology|      Rourkela|          null|\n",
      "|Foundation for Te...|Coratia Technologies|            Robotics|      Rourkela|          null|\n",
      "|Foundation for Te...|   Quidle Enterprise|IoT and consumer ...|      Rourkela|          null|\n",
      "|Grameena Incubati...|            Transity|   Agri-Supply Chain|       Chennai|     Tamilnadu|\n",
      "|Grameena Incubati...|              TraceX|         Block chain|     Bengaluru|     Karnataka|\n",
      "|Grameena Incubati...|\"\"\"Temperate Tech...|Cold Storage Solu...|     Hyderabad|     Telangana|\n",
      "|Gujarat Universit...|            Multplyr| Enterprise Solution|     Ahmedabad|       Gujarat|\n",
      "|Gujarat Universit...|Quixote Automotiv...|               AI/ML|     Ahmedabad|       Gujarat|\n",
      "|Gujarat Universit...|Plutomen Technolo...|         VR/AR/MR/XR|     Ahmedabad|       Gujarat|\n",
      "|Gujarat Universit...|    IEIDidactics LLP|           Education|      Vadodara|          null|\n",
      "|Gujarat Universit...|           UrbanKHET|         Agriculture|     Ahmedabad|       Gujarat|\n",
      "|Gujarat Universit...|E-Vega Mobility Labs|        Clean Energy|     Ahmedabad|       Gujarat|\n",
      "|Gujarat Universit...|microfinance.ai -...| Financial Inclusion|         Delhi|         Delhi|\n",
      "|Gujarat Universit...|Waste Tracker - T...|         Environment|    Jamshedpur|          null|\n",
      "|IIIT B Innovation...|DeepVisionTech Pv...|Multiple (Assisti...|     Bengaluru|     Karnataka|\n",
      "|IIIT B Innovation...|              Breezy|Environment, Tech...|     Bengaluru|     Karnataka|\n",
      "|IIIT B Innovation...|         HAVELI UAVs|Skill Development...|     Bengaluru|     Karnataka|\n",
      "|IIITD Innovation ...|  Tweek Labs Pvt Ltd|            AI & IOT|     New Delhi|          null|\n",
      "|IIITD Innovation ...|Shasmith Technolo...|   Health Technology|     New Delhi|          null|\n",
      "|IIITD Innovation ...|Eleqtrasoft Educa...|Education Technology|     New Delhi|          null|\n",
      "|IIITD Innovation ...|Fin Lit Project S...|Education Technology|       Lucknow| Uttar Pradesh|\n",
      "|IIITD Innovation ...|    ShikshAI Pvt Ltd|Education Technology|       Kolkata|   West Bengal|\n",
      "|IIITD Innovation ...|Swapeco Solutions...|    Waste Management|     New Delhi|          null|\n",
      "|IIITD Innovation ...|Embedsense Soluti...|Manufacturing IOT...|     Bengaluru|     Karnataka|\n",
      "|IIM Udaipur Incub...|Yobny Technology ...|multi-sector (B2B...|     Bengaluru|     Karnataka|\n",
      "|IIM Udaipur Incub...|Statlogic India P...|            Agritech|     Bengaluru|     Karnataka|\n",
      "|IIM Udaipur Incub...|Arktane Technolog...|            Aviation|         Noida| Uttar Pradesh|\n",
      "|          IIT Kanpur|Arthavedika Tech ...|             Fintech|         Noida| Uttar Pradesh|\n",
      "|  IIT Mandi Catalyst|Datalytics Techno...|Business Intelleg...|        Nagpur|   Maharashtra|\n",
      "|  IIT Mandi Catalyst|Elight SPM OPC Pv...|           Dronetech|     New Delhi|          null|\n",
      "|  IIT Mandi Catalyst|DatumM Tech-Solut...|     Medical Devices|        Kangra|            Hp|\n",
      "|  IIT Mandi Catalyst|            IntelVib|       Manufacturing|     DIAT Pune|   Maharashtra|\n",
      "|  IIT Mandi Catalyst|Farm Intelligent ...|Agri Tech, Robotics,|     DIAT Pune|   Maharashtra|\n",
      "|  IIT Mandi Catalyst|    Coding Made Easy|Information Techn...|      Warangal|          null|\n",
      "|  IIT Mandi Catalyst|                ECOC|   Electric Bicycles|      Warangal|          null|\n",
      "|IITM Incubation Cell|ISMO Biophotonics...|Biotech/ Bio-info...|       Chennai|     Tamilnadu|\n",
      "|IITM Incubation Cell|C3 Medtech Privat...|          Healthcare|       Chennai|     Tamilnadu|\n",
      "|IITM Incubation Cell|Dextroware Device...|          Healthcare|       Chennai|     Tamilnadu|\n",
      "|IITM Incubation Cell|InuAid Solutions ...|Artificial Intell...|       Chennai|     Tamilnadu|\n",
      "|IITM Incubation Cell|Revoh Innovations...|Infra and Transpo...|       Chennai|     Tamilnadu|\n",
      "|IITM Incubation Cell|Good Move Logisti...|           Logistics|       Chennai|     Tamilnadu|\n",
      "|INurture Incubati...|Hawaiadda Aerial ...| Aerospace & Defence|     Ghaziabad| Uttar Pradesh|\n",
      "|JECRC Incubation ...|Botnomics Techrol...|Information Techn...|     Hyderabad|     Telangana|\n",
      "|JECRC Incubation ...|Aloe Ecell Pvt. Ltd.|              Energy|       Lucknow| Uttar Pradesh|\n",
      "|JECRC Incubation ...|            Dexterio|                 ICT|        Jaipur|     Rajasthan|\n",
      "|JECRC Incubation ...|         Retail Setu|           Ecommerce|Singrauli (mp)|          null|\n",
      "|JECRC Incubation ...|              Show-U|                 ICT|       Udaipur|          null|\n",
      "|JECRC Incubation ...|Repobuild IT Solu...|                  HR|        Jaipur|     Rajasthan|\n",
      "|JECRC Incubation ...|  ED Apply Pvt. Ltd.|              EdTech|        Jaipur|     Rajasthan|\n",
      "|JECRC Incubation ...|      Puaerte Visual|         Design Tech|        Jaipur|     Rajasthan|\n",
      "|            KLE CTIE|Astr Tactical Pri...|   Tactical Products|         Hubli|     Karnataka|\n",
      "|Koneru Lakshmaiah...|MILATRONICS PRIVA...|         AGRICULTURE|   Mudavadibba|Andhra Pradesh|\n",
      "|Koneru Lakshmaiah...|Uplink-Automation...|IoT- manufacturin...|    Vijayawada|Andhra Pradesh|\n",
      "|Koneru Lakshmaiah...|Seeram Innovation...|       Manufacturing|     Tadepalli|Andhra Pradesh|\n",
      "|Koneru Lakshmaiah...|CHEMSENS Technolo...|          Healthcare|    Vijayawada|Andhra Pradesh|\n",
      "|Krishna Path Incu...|Quest educational...|             Edutech|     Ghaziabad| Uttar Pradesh|\n",
      "|Krishna Path Incu...|MOTS Private Limited|              Travel|      Fatehpur| Uttar Pradesh|\n",
      "|Krishna Path Incu...|FARMOCONNECT LLP ...|            Agritech|     Ghaziabad| Uttar Pradesh|\n",
      "|Krishna Path Incu...|   ANI SCRAP PVT LTD|    WASTE MANAGEMENT|     Ghaziabad| Uttar Pradesh|\n",
      "|Krishna Path Incu...|               Dineo|                  IT|        Jaipur|     Rajasthan|\n",
      "|Krishna Path Incu...|Bhurak Technologi...|A.I. (Computer Vi...|    Saharanpur| Uttar Pradesh|\n",
      "|NSRCEL, IIM Banga...|MedPiper Technolo...|          Healthtech|     Bengaluru|     Karnataka|\n",
      "|NSRCEL, IIM Banga...|(Solvio) Curious ...|Education Technology|     Bengaluru|     Karnataka|\n",
      "|Pilani Innovation...|             Nawgati|            Mobility|      Gurugram|       Haryana|\n",
      "|Pilani Innovation...|               Adnue|Advertising Techn...|       Jodhpur|          null|\n",
      "|Pilani Innovation...|      Medsupervision|          Healthcare|     Faridabad|          null|\n",
      "|Pilani Innovation...|            Nirogyan|          Healthcare|     New Delhi|          null|\n",
      "|Pilani Innovation...|    Valerio Electric|   Electric Vechiles|     New Delhi|          null|\n",
      "|Pilani Innovation...|              Syzygy|          Healthcare|        Jaipur|     Rajasthan|\n",
      "|Pilani Innovation...|          Urbantrack|Urban Transportation|        Pilani|          null|\n",
      "|Pilani Innovation...|           Greynight|          Space Tech|     Bengaluru|     Karnataka|\n",
      "|Pilani Innovation...|            Finquant|        MicroFinance|    Hazartganj|          null|\n",
      "|PSG - Science and...|Dot World Technol...|Robotics / Automa...|    Coimbatore|    Tamil Nadu|\n",
      "|PSG - Science and...|            Agna Inc|         Bio Medical|    Coimbatore|    Tamil Nadu|\n",
      "|PSG - Science and...|Embedded Shastra ...|           Edutech /|    Coimbatore|    Tamil Nadu|\n",
      "|PSG - Science and...|Mechcreatio Indus...|            Agritech|    Coimbatore|    Tamil Nadu|\n",
      "|PSG - Science and...|Switch Mobility P...|         Electronics|     Bengaluru|     Karnataka|\n",
      "|Sandip Incubation...|Duende Ingenious LLP|   Rural Development|        Nashik|   Maharashtra|\n",
      "|Sandip Incubation...|    Management Forum|            Infotech|        Nashik|   Maharashtra|\n",
      "|Sandip Incubation...|Payveb Resources ...|IT, IoT, Retail, ...|        Nashik|   Maharashtra|\n",
      "|Sandip Incubation...|             Drishte|                  Ai|     Hyderabad|     Telangana|\n",
      "|    SIIC, IIT Kanpur|PATS Literary Sol...|Education, Media ...|        Kanpur| Uttar Pradesh|\n",
      "|                SIIC|Hacklab Solutions...|Industrial Automa...|     Bengaluru|     Karnataka|\n",
      "|                SIIC|Airth Research Pr...|          Healthcare|         Delhi|         Delhi|\n",
      "|    SIIC, IIT Kanpur|E-Trainer Analyti...|            Fit-Tech|     New Delhi|          null|\n",
      "|    SIIC, IIT Kanpur|Invariance Automa...|Industrial Automa...|        Kanpur| Uttar Pradesh|\n",
      "|    SIIC, IIT Kanpur|Neoperk Technolog...|Agri-Tech - Soil ...|        Mumbai|   Maharashtra|\n",
      "|    SIIC, IIT Kanpur|WeRehab Technolog...|         Health tech|        Nagpur|   Maharashtra|\n",
      "|    SIIC, IIT Kanpur|Life and Limb (P)...|         Health-Tech|        Kanpur| Uttar Pradesh|\n",
      "|    SIIC, IIT Kanpur|  Offgrid EnergyLabs|        Clean Energy|        Kanpur| Uttar Pradesh|\n",
      "|    SIIC, IIT Kanpur|?GeoWiz Consultan...|Geospatial data s...|        Kanpur| Uttar Pradesh|\n",
      "|    SIIC, IIT Kanpur|E-Trainer Analyti...|            Fit-Tech|     New Delhi|          null|\n",
      "|    SIIC, IIT Kanpur|Reolo Holographic...|               AR/VR|     Ahmedabad|       Gujarat|\n",
      "|    SIIC, IIT Kanpur|WUS ( Product of ...|\"\"\"Low Income Wor...|     Panchkula|          null|\n",
      "|    SIIC, IIT Kanpur|Cycle spirit Pvt Ltd|   Electric vehicles|        Kanpur| Uttar Pradesh|\n",
      "|    SIIC, IIT Kanpur|ClaitoVision Tecn...|  Health and FItness|         Thane|   Maharashtra|\n",
      "|    SIIC, IIT Kanpur|WeRehab Technolog...|          Healthtech|        Kanpur| Uttar Pradesh|\n",
      "|    SIIC, IIT Kanpur|            CASHYEAR|             FINTECH|       Lucknow| Uttar Pradesh|\n",
      "|    SIIC, IIT Kanpur|InvoViron Industr...|Waste to Value (B...|        Kanpur| Uttar Pradesh|\n",
      "|    SIIC, IIT Kanpur|HINDONICS TECHNOL...| Hardware Technology|     Gorakhpur|          null|\n",
      "|Society for Innov...|Ixar Robotic Solu...|  Under water vehcle|        Mumbai|   Maharashtra|\n",
      "|Society for Innov...|Micob Private Lim...|        Construction|   Gandhinagar|          null|\n",
      "|Society for Innov...|Udayan Ecotech Pv...|                  EV|     DIAT Pune|   Maharashtra|\n",
      "|Society for Innov...|Incorporation yet...|             EduTech|            Na|          null|\n",
      "|Society for Innov...|Bramhansh Technol...|          Healthcare|   Chattisgarh|          null|\n",
      "|Society for Innov...|Clairvoyance Mind...|          Healthcare|     DIAT Pune|   Maharashtra|\n",
      "|Society for Innov...|Chainworks Digita...|          Healthcare|        Mumbai|   Maharashtra|\n",
      "|Society for Innov...|Whiteowl Healthca...|          Healthcare|     Hyderabad|     Telangana|\n",
      "|Society for Innov...|Faucet Labs Priva...|             FinTech|         Delhi|         Delhi|\n",
      "|Society for Innov...|Develop Train Mai...|           CleanTech|    Ulhasnagar|          null|\n",
      "|Society for Innov...|Incorporation yet...|             EduTech|            Na|          null|\n",
      "+--------------------+--------------------+--------------------+--------------+--------------+\n",
      "only showing top 200 rows\n",
      "\n"
     ]
    }
   ],
   "source": [
    "startup = startup.withColumn('state', when(startup.city.contains('Diat')|startup.city.contains('Pune'), 'Maharashtra').otherwise(startup.state))\n",
    "#.filter(startup.Sector.contains('Healthcare'))\n",
    "startup = startup.withColumn('city', when((startup.city.contains('Diat'))|(startup.city.contains('Pune')), 'DIAT Pune').otherwise(startup.city))\n",
    "startup.show(200)"
   ]
  },
  {
   "cell_type": "markdown",
   "id": "33ba06d7",
   "metadata": {},
   "source": [
    "### 4.If Location of company column has a data Ulhasnagar then set state as Maharashtra and city as Ulhasnagar"
   ]
  },
  {
   "cell_type": "code",
   "execution_count": 405,
   "id": "3ac7fe10",
   "metadata": {},
   "outputs": [
    {
     "name": "stdout",
     "output_type": "stream",
     "text": [
      "+--------------------+--------------------+---------+----------+-----------+\n",
      "|   Incubation_Center|     Name_of_startup|   Sector|      city|      state|\n",
      "+--------------------+--------------------+---------+----------+-----------+\n",
      "|Society for Innov...|Develop Train Mai...|CleanTech|Ulhasnagar|Maharashtra|\n",
      "+--------------------+--------------------+---------+----------+-----------+\n",
      "\n"
     ]
    }
   ],
   "source": [
    "startup = startup.withColumn('state', when(startup.city.contains('Ulhasnagar'),'Maharashtra').otherwise(startup.state))\n",
    "startup.filter(startup.city.contains('Ulhasnagar')).show(10)"
   ]
  },
  {
   "cell_type": "markdown",
   "id": "d202f5a4",
   "metadata": {},
   "source": [
    "## 5. Find which State has the max number of startups"
   ]
  },
  {
   "cell_type": "code",
   "execution_count": 406,
   "id": "e78117ae",
   "metadata": {},
   "outputs": [
    {
     "name": "stdout",
     "output_type": "stream",
     "text": [
      "+---------+-----+\n",
      "|    state|count|\n",
      "+---------+-----+\n",
      "|Karnataka|   35|\n",
      "+---------+-----+\n",
      "only showing top 1 row\n",
      "\n"
     ]
    }
   ],
   "source": [
    "startup = startup.withColumn(\"state\", when(col(\"state\") == \"Unknown\", None).otherwise(col(\"state\")))\n",
    "db5=startup.filter(startup.state.isNotNull()).groupby(startup.state).count().orderBy(\"count\", ascending=False)\n",
    "db5.show(1)"
   ]
  },
  {
   "cell_type": "markdown",
   "id": "08b7b783",
   "metadata": {},
   "source": [
    "## 6. Find all the startups from Maharashtra"
   ]
  },
  {
   "cell_type": "code",
   "execution_count": 407,
   "id": "3232eaba",
   "metadata": {},
   "outputs": [
    {
     "name": "stdout",
     "output_type": "stream",
     "text": [
      "+--------------------+--------------------+--------------------+----------+-----------+\n",
      "|   Incubation_Center|     Name_of_startup|              Sector|      city|      state|\n",
      "+--------------------+--------------------+--------------------+----------+-----------+\n",
      "|AIC Banasthali Vi...|Thinkpods Educati...|             Ed Tech|    Satara|Maharashtra|\n",
      "|AIC Banasthali Vi...|Inventiway Soluti...|             HR Tech|    Mumbai|Maharashtra|\n",
      "|AIC Pinnacle Entr...|            Wastinno|         agriculture| DIAT Pune|Maharashtra|\n",
      "|AIC Pinnacle Entr...|Diabetico - Rise ...|          Healthcare| DIAT Pune|Maharashtra|\n",
      "|AIC Pinnacle Entr...|  3DGuru Innovations|             EduTech| DIAT Pune|Maharashtra|\n",
      "|AIC Pinnacle Entr...|     Gupte Education|    Ed Tech, Defence| DIAT Pune|Maharashtra|\n",
      "|AIC Pinnacle Entr...|Eldew Digital Pvt...|  IT, Virtual Events| DIAT Pune|Maharashtra|\n",
      "|AIC Pinnacle Entr...|Secumatic Technol...|             Defense| DIAT Pune|Maharashtra|\n",
      "|AIC Pinnacle Entr...|Catalystgreen Pri...|          E-Mobility| DIAT Pune|Maharashtra|\n",
      "|AIC Pinnacle Entr...|Dynateq Consultin...|Industril Automation| DIAT Pune|Maharashtra|\n",
      "|Bio-incubator at ...|    ARQ Solution LLP|          Healthcare|    Mumbai|Maharashtra|\n",
      "|    CIIE Initiatives|             Kidaura|          Healthcare|    Nashik|Maharashtra|\n",
      "|    CIIE Initiatives|      Pacify Medical|          Healthcare|    Mumbai|Maharashtra|\n",
      "|    CIIE Initiatives|Godaam Innovation...|            Agritech|    Nashik|Maharashtra|\n",
      "|     FITT, IIT Delhi|Ambrosius Tech Pv...|              EdTech|    Satara|Maharashtra|\n",
      "|     FITT, IIT Delhi|  Ominar Innovations|Digital Health he...| DIAT Pune|Maharashtra|\n",
      "|Forge (Coimbatore...|Abhaya Informatio...| Digital Health Tech|    Mumbai|Maharashtra|\n",
      "|  IIT Mandi Catalyst|Datalytics Techno...|Business Intelleg...|    Nagpur|Maharashtra|\n",
      "|  IIT Mandi Catalyst|            IntelVib|       Manufacturing| DIAT Pune|Maharashtra|\n",
      "|  IIT Mandi Catalyst|Farm Intelligent ...|Agri Tech, Robotics,| DIAT Pune|Maharashtra|\n",
      "|Sandip Incubation...|Duende Ingenious LLP|   Rural Development|    Nashik|Maharashtra|\n",
      "|Sandip Incubation...|    Management Forum|            Infotech|    Nashik|Maharashtra|\n",
      "|Sandip Incubation...|Payveb Resources ...|IT, IoT, Retail, ...|    Nashik|Maharashtra|\n",
      "|    SIIC, IIT Kanpur|Neoperk Technolog...|Agri-Tech - Soil ...|    Mumbai|Maharashtra|\n",
      "|    SIIC, IIT Kanpur|WeRehab Technolog...|         Health tech|    Nagpur|Maharashtra|\n",
      "|    SIIC, IIT Kanpur|ClaitoVision Tecn...|  Health and FItness|     Thane|Maharashtra|\n",
      "|Society for Innov...|Ixar Robotic Solu...|  Under water vehcle|    Mumbai|Maharashtra|\n",
      "|Society for Innov...|Udayan Ecotech Pv...|                  EV| DIAT Pune|Maharashtra|\n",
      "|Society for Innov...|Clairvoyance Mind...|          Healthcare| DIAT Pune|Maharashtra|\n",
      "|Society for Innov...|Chainworks Digita...|          Healthcare|    Mumbai|Maharashtra|\n",
      "|Society for Innov...|Develop Train Mai...|           CleanTech|Ulhasnagar|Maharashtra|\n",
      "|Society for Innov...|      Mclabs Pvt Ltd|      Communications|    Mumbai|Maharashtra|\n",
      "|TIDES Business In...|Powerzest Energy ...|    Renewable Energy|    Mumbai|Maharashtra|\n",
      "|              VITTBI|Fat Cat Robotics ...|                 IoT| DIAT Pune|Maharashtra|\n",
      "+--------------------+--------------------+--------------------+----------+-----------+\n",
      "\n"
     ]
    }
   ],
   "source": [
    "\n",
    "db6=startup.filter(startup.state=='Maharashtra')\n",
    "db6.show(200)"
   ]
  },
  {
   "cell_type": "markdown",
   "id": "478802a2",
   "metadata": {},
   "source": [
    "## 7.How many startups were formed in `Healthcare` sector"
   ]
  },
  {
   "cell_type": "code",
   "execution_count": 408,
   "id": "f3cb51c0",
   "metadata": {},
   "outputs": [
    {
     "name": "stdout",
     "output_type": "stream",
     "text": [
      "+--------------------+--------------------+----------+-----------+--------------+\n",
      "|   Incubation_Center|     Name_of_startup|    Sector|       city|         state|\n",
      "+--------------------+--------------------+----------+-----------+--------------+\n",
      "|AIC Pinnacle Entr...|Diabetico - Rise ...|Healthcare|  DIAT Pune|   Maharashtra|\n",
      "|           AIC@36Inc|           Jivandeep|Healthcare|     Raipur|          null|\n",
      "|Bio-incubator at ...|Predible Health P...|Healthcare|  Bengaluru|     Karnataka|\n",
      "|Bio-incubator at ...|    ARQ Solution LLP|Healthcare|     Mumbai|   Maharashtra|\n",
      "|Centre for Innova...|Rekindle Automati...|Healthcare|    Chennai|     Tamilnadu|\n",
      "|Centre for Innova...|MedCuore Medical ...|Healthcare|    Chennai|     Tamilnadu|\n",
      "|Chitkara innovati...|Hackspace Securit...|Healthcare|      Delhi|         Delhi|\n",
      "|    CIIE Initiatives|             Kidaura|Healthcare|     Nashik|   Maharashtra|\n",
      "|    CIIE Initiatives|      Pacify Medical|Healthcare|     Mumbai|   Maharashtra|\n",
      "|    CIIE Initiatives|             Evoluto|Healthcare|  Bengaluru|     Karnataka|\n",
      "|    CIIE Initiatives|     Redicine Medsol|Healthcare|  Ahmedabad|       Gujarat|\n",
      "|    CIIE Initiatives|  Articulus Surgical|Healthcare|  Bengaluru|     Karnataka|\n",
      "|    DERBI Foundation|Backyard Creators...|Healthcare|   Madhurai|          null|\n",
      "|    DERBI Foundation|   Machphy Solutions|Healthcare|Bhubaneswar|          null|\n",
      "|    DERBI Foundation|  Fititout Solutions|Healthcare|    Chennai|     Tamilnadu|\n",
      "|    DERBI Foundation|Prayasta 3D Inven...|Healthcare|  Bengaluru|     Karnataka|\n",
      "|    DERBI Foundation|Acculi Labs Pvt Ltd.|Healthcare|  Bengaluru|     Karnataka|\n",
      "|    DERBI Foundation|Hinnts Consultanc...|Healthcare|  Bengaluru|     Karnataka|\n",
      "|     FITT, IIT Delhi|MeuKron Technologies|Healthcare|   Belagavi|     Karnataka|\n",
      "|IITM Incubation Cell|C3 Medtech Privat...|Healthcare|    Chennai|     Tamilnadu|\n",
      "|IITM Incubation Cell|Dextroware Device...|Healthcare|    Chennai|     Tamilnadu|\n",
      "|Koneru Lakshmaiah...|CHEMSENS Technolo...|Healthcare| Vijayawada|Andhra Pradesh|\n",
      "|Pilani Innovation...|      Medsupervision|Healthcare|  Faridabad|          null|\n",
      "|Pilani Innovation...|            Nirogyan|Healthcare|  New Delhi|          null|\n",
      "|Pilani Innovation...|              Syzygy|Healthcare|     Jaipur|     Rajasthan|\n",
      "|                SIIC|Airth Research Pr...|Healthcare|      Delhi|         Delhi|\n",
      "|Society for Innov...|Bramhansh Technol...|Healthcare|Chattisgarh|          null|\n",
      "|Society for Innov...|Clairvoyance Mind...|Healthcare|  DIAT Pune|   Maharashtra|\n",
      "|Society for Innov...|Chainworks Digita...|Healthcare|     Mumbai|   Maharashtra|\n",
      "|Society for Innov...|Whiteowl Healthca...|Healthcare|  Hyderabad|     Telangana|\n",
      "|Society for Innov...|Cre-Aid Labs Pvt Ltd|Healthcare|  Bengaluru|     Karnataka|\n",
      "|TIDES Business In...|Biofluidics Innov...|Healthcare|    Roorkee|          null|\n",
      "|TIIC, ABV-IIITM, ...|SehatOne � Compre...|Healthcare|    Gwalior|          null|\n",
      "|Vel Tech Technolo...|DHE4 Ventures Pri...|Healthcare|    Chennai|     Tamilnadu|\n",
      "+--------------------+--------------------+----------+-----------+--------------+\n",
      "\n"
     ]
    }
   ],
   "source": [
    "startup.filter(startup.Sector.contains('Healthcare')).show(100)"
   ]
  },
  {
   "cell_type": "code",
   "execution_count": 409,
   "id": "ced26ea6",
   "metadata": {},
   "outputs": [
    {
     "data": {
      "text/plain": [
       "pyspark.sql.dataframe.DataFrame"
      ]
     },
     "execution_count": 409,
     "metadata": {},
     "output_type": "execute_result"
    }
   ],
   "source": [
    "type(startup)"
   ]
  },
  {
   "cell_type": "markdown",
   "id": "180be1ed",
   "metadata": {},
   "source": [
    "## 8. Display all startups from Pune and Nashik"
   ]
  },
  {
   "cell_type": "code",
   "execution_count": 410,
   "id": "d2bbc0a1",
   "metadata": {},
   "outputs": [
    {
     "name": "stdout",
     "output_type": "stream",
     "text": [
      "+--------------------+--------------------+--------------------+---------+-----------+\n",
      "|   Incubation_Center|     Name_of_startup|              Sector|     city|      state|\n",
      "+--------------------+--------------------+--------------------+---------+-----------+\n",
      "|AIC Pinnacle Entr...|            Wastinno|         agriculture|DIAT Pune|Maharashtra|\n",
      "|AIC Pinnacle Entr...|Diabetico - Rise ...|          Healthcare|DIAT Pune|Maharashtra|\n",
      "|AIC Pinnacle Entr...|  3DGuru Innovations|             EduTech|DIAT Pune|Maharashtra|\n",
      "|AIC Pinnacle Entr...|     Gupte Education|    Ed Tech, Defence|DIAT Pune|Maharashtra|\n",
      "|AIC Pinnacle Entr...|Eldew Digital Pvt...|  IT, Virtual Events|DIAT Pune|Maharashtra|\n",
      "|AIC Pinnacle Entr...|Secumatic Technol...|             Defense|DIAT Pune|Maharashtra|\n",
      "|AIC Pinnacle Entr...|Catalystgreen Pri...|          E-Mobility|DIAT Pune|Maharashtra|\n",
      "|AIC Pinnacle Entr...|Dynateq Consultin...|Industril Automation|DIAT Pune|Maharashtra|\n",
      "|    CIIE Initiatives|             Kidaura|          Healthcare|   Nashik|Maharashtra|\n",
      "|    CIIE Initiatives|Godaam Innovation...|            Agritech|   Nashik|Maharashtra|\n",
      "|     FITT, IIT Delhi|  Ominar Innovations|Digital Health he...|DIAT Pune|Maharashtra|\n",
      "|  IIT Mandi Catalyst|            IntelVib|       Manufacturing|DIAT Pune|Maharashtra|\n",
      "|  IIT Mandi Catalyst|Farm Intelligent ...|Agri Tech, Robotics,|DIAT Pune|Maharashtra|\n",
      "|Sandip Incubation...|Duende Ingenious LLP|   Rural Development|   Nashik|Maharashtra|\n",
      "|Sandip Incubation...|    Management Forum|            Infotech|   Nashik|Maharashtra|\n",
      "|Sandip Incubation...|Payveb Resources ...|IT, IoT, Retail, ...|   Nashik|Maharashtra|\n",
      "|Society for Innov...|Udayan Ecotech Pv...|                  EV|DIAT Pune|Maharashtra|\n",
      "|Society for Innov...|Clairvoyance Mind...|          Healthcare|DIAT Pune|Maharashtra|\n",
      "|              VITTBI|Fat Cat Robotics ...|                 IoT|DIAT Pune|Maharashtra|\n",
      "+--------------------+--------------------+--------------------+---------+-----------+\n",
      "\n"
     ]
    }
   ],
   "source": [
    "startup.filter(startup.city.contains('Pune')|startup.city.contains('Nashik')).show(30)"
   ]
  },
  {
   "cell_type": "markdown",
   "id": "032a849f",
   "metadata": {},
   "source": [
    "## 9. Sort the cities in Maharashtra in descending order of the count of startups"
   ]
  },
  {
   "cell_type": "code",
   "execution_count": 411,
   "id": "16f89273",
   "metadata": {},
   "outputs": [
    {
     "name": "stdout",
     "output_type": "stream",
     "text": [
      "+----------+-----+\n",
      "|      city|count|\n",
      "+----------+-----+\n",
      "| DIAT Pune|   14|\n",
      "|    Mumbai|    9|\n",
      "|    Nashik|    5|\n",
      "|    Satara|    2|\n",
      "|    Nagpur|    2|\n",
      "|     Thane|    1|\n",
      "|Ulhasnagar|    1|\n",
      "+----------+-----+\n",
      "\n"
     ]
    }
   ],
   "source": [
    "startup.filter(startup.state.contains('Maharashtra')).groupby(startup.city).count().orderBy(\"count\", ascending=False).show()"
   ]
  },
  {
   "cell_type": "markdown",
   "id": "ac8e2a5c",
   "metadata": {},
   "source": [
    "### 10. How many startups are in South India. That is states Karnataka, Tamilnadu, Telangana, Andhra Pradesh"
   ]
  },
  {
   "cell_type": "code",
   "execution_count": 412,
   "id": "62e67a77",
   "metadata": {},
   "outputs": [
    {
     "name": "stdout",
     "output_type": "stream",
     "text": [
      "south startups count =  76\n"
     ]
    }
   ],
   "source": [
    "south_startups=startup.filter(startup.state.contains('Karnataka')|startup.state.contains('Tamilnadu')\n",
    "               |startup.state.contains('Telangana')|startup.state.contains('Andhra Pradesh')).count()\n",
    "print('south startups count = ',south_startups)"
   ]
  },
  {
   "cell_type": "markdown",
   "id": "9526b781",
   "metadata": {},
   "source": [
    "## 11. How many startups are in Gujarat"
   ]
  },
  {
   "cell_type": "code",
   "execution_count": 413,
   "id": "db7a4868",
   "metadata": {},
   "outputs": [
    {
     "name": "stdout",
     "output_type": "stream",
     "text": [
      "Gujarat startups count =  7\n"
     ]
    }
   ],
   "source": [
    "guj=startup.filter(startup.state.contains('Gujarat')).count()\n",
    "print('Gujarat startups count = ',guj)"
   ]
  },
  {
   "cell_type": "markdown",
   "id": "5b529db2",
   "metadata": {},
   "source": [
    "### 12. How many startups are in North India.That is states other than Karnataka, Tamilnadu, Telangana, Andhra Pradesh and Maharashtra"
   ]
  },
  {
   "cell_type": "code",
   "execution_count": 414,
   "id": "b02f9799",
   "metadata": {},
   "outputs": [
    {
     "name": "stdout",
     "output_type": "stream",
     "text": [
      "north startups count =  63\n"
     ]
    }
   ],
   "source": [
    "north_startup=startup.filter(~(startup.state.contains('Karnataka')|startup.state.contains('Tamilnadu')\n",
    "               |startup.state.contains('Telangana')|startup.state.contains('Andhra Pradesh')\n",
    "               |startup.state.contains('Maharashtra'))).count()\n",
    "startup_total=startup.count()\n",
    "print('north startups count = ',north_startup)"
   ]
  },
  {
   "cell_type": "code",
   "execution_count": 415,
   "id": "ebfc2999",
   "metadata": {},
   "outputs": [
    {
     "data": {
      "text/plain": [
       "241"
      ]
     },
     "execution_count": 415,
     "metadata": {},
     "output_type": "execute_result"
    }
   ],
   "source": [
    "startup_total=startup.count()\n",
    "startup_total"
   ]
  },
  {
   "cell_type": "markdown",
   "id": "c05a10fc",
   "metadata": {},
   "source": [
    "## 13. What is the percentage of startup initiative from South India and Maharashtra"
   ]
  },
  {
   "cell_type": "code",
   "execution_count": 426,
   "id": "f4762a94",
   "metadata": {},
   "outputs": [
    {
     "name": "stdout",
     "output_type": "stream",
     "text": [
      "South India and Maharashtra startups ratio to startups =  45.643153526970956\n"
     ]
    }
   ],
   "source": [
    "mands=startup.filter((startup.state.contains('Karnataka')|startup.state.contains('Tamilnadu')\n",
    "               |startup.state.contains('Telangana')|startup.state.contains('Andhra Pradesh')\n",
    "               |startup.state.contains('Maharashtra'))).count()\n",
    "\n",
    "print('South India and Maharashtra startups ratio to startups = ',100*mands/startup_total)"
   ]
  },
  {
   "cell_type": "markdown",
   "id": "1db0d6b0",
   "metadata": {},
   "source": [
    "## 14. What is the percentage contribution of startup from Maharashtra"
   ]
  },
  {
   "cell_type": "code",
   "execution_count": 425,
   "id": "95799478",
   "metadata": {},
   "outputs": [
    {
     "name": "stdout",
     "output_type": "stream",
     "text": [
      "Maharashtra startups to startups percentage =  14.107883817427386\n"
     ]
    }
   ],
   "source": [
    "startup_maha=startup.filter(startup.state.contains('Maharashtra')).count()\n",
    "print('Maharashtra startups to startups percentage = ',100*startup_maha/startup_total)"
   ]
  },
  {
   "cell_type": "markdown",
   "id": "4714b02b",
   "metadata": {},
   "source": [
    "## 15.  What is the percentage contribution of startup from Gujarat"
   ]
  },
  {
   "cell_type": "code",
   "execution_count": 424,
   "id": "1441252d",
   "metadata": {},
   "outputs": [
    {
     "name": "stdout",
     "output_type": "stream",
     "text": [
      "Maharashtra startups to startups percentage =  2.904564315352697\n"
     ]
    }
   ],
   "source": [
    "startup_gur=startup.filter(startup.state.contains('Gujarat')).count()\n",
    "print('Maharashtra startups to startups percentage = ',100*startup_gur/startup_total)"
   ]
  },
  {
   "cell_type": "markdown",
   "id": "1b2725b2",
   "metadata": {},
   "source": [
    "## 16. Replace `state` with null values to `Unknown`"
   ]
  },
  {
   "cell_type": "code",
   "execution_count": 419,
   "id": "1b0e447e",
   "metadata": {},
   "outputs": [
    {
     "name": "stdout",
     "output_type": "stream",
     "text": [
      "+--------------------+--------------------+--------------------+--------------+--------------+\n",
      "|   Incubation_Center|     Name_of_startup|              Sector|          city|         state|\n",
      "+--------------------+--------------------+--------------------+--------------+--------------+\n",
      "|      ABES Ghaziabad|            Suryansh|              EdTech|     New Delhi|       Unknown|\n",
      "|AIC Banasthali Vi...|Thinkpods Educati...|             Ed Tech|        Satara|   Maharashtra|\n",
      "|AIC Banasthali Vi...|Inventiway Soluti...|             HR Tech|        Mumbai|   Maharashtra|\n",
      "|AIC Banasthali Vi...|C2M Internet Indi...|         Retail Tech|       Lucknow| Uttar Pradesh|\n",
      "|AIC Pinnacle Entr...|            Wastinno|         agriculture|     DIAT Pune|   Maharashtra|\n",
      "|AIC Pinnacle Entr...|Diabetico - Rise ...|          Healthcare|     DIAT Pune|   Maharashtra|\n",
      "|AIC Pinnacle Entr...|  3DGuru Innovations|             EduTech|     DIAT Pune|   Maharashtra|\n",
      "|AIC Pinnacle Entr...|     Gupte Education|    Ed Tech, Defence|     DIAT Pune|   Maharashtra|\n",
      "|AIC Pinnacle Entr...|Eldew Digital Pvt...|  IT, Virtual Events|     DIAT Pune|   Maharashtra|\n",
      "|AIC Pinnacle Entr...|Secumatic Technol...|             Defense|     DIAT Pune|   Maharashtra|\n",
      "|AIC Pinnacle Entr...|Catalystgreen Pri...|          E-Mobility|     DIAT Pune|   Maharashtra|\n",
      "|AIC Pinnacle Entr...|Dynateq Consultin...|Industril Automation|     DIAT Pune|   Maharashtra|\n",
      "|           AIC@36Inc|               TECHB|3d printer and cn...|        Bhilai|       Unknown|\n",
      "|           AIC@36Inc|Acculegal Service...|Finance, Legal , ...|        Raipur|       Unknown|\n",
      "|           AIC@36Inc|Bastar Se Bazar T...|       Agri-business|  Uttar Bastar|       Unknown|\n",
      "|           AIC@36Inc|          Coshal Art|          Handicraft|        Raipur|       Unknown|\n",
      "|           AIC@36Inc|           Jivandeep|          Healthcare|        Raipur|       Unknown|\n",
      "|           AIC@36Inc|  Binomial Analytics|IT and Technology...|        Raipur|       Unknown|\n",
      "|           AIC@36Inc|              Rawfit|Heathcare & Wellness|        Raipur|       Unknown|\n",
      "|           AIC@36Inc|           WedNicely|eInvitations & We...|        Raipur|       Unknown|\n",
      "|Amity Technology ...|Plabs Solutions P...|          Healthtech|     Ghaziabad| Uttar Pradesh|\n",
      "|Amity University ...|        nanoLatticeX|      nanotechnology|      Gurugram|       Haryana|\n",
      "|Amity University ...|NanoMask (It is o...|           Face Mask|      Gurugram|       Haryana|\n",
      "|Atal Incubation C...|Neoinventronix Pv...|     ICT Electronics|     Hyderabad|     Telangana|\n",
      "|Atal Incubation C...|Binford Research ...|     ICT Electronics|     Hyderabad|     Telangana|\n",
      "|Atal Incubation C...|Nimaya Robotics P...|     ICT Electronics|       Chennai|     Tamilnadu|\n",
      "|Atal Incubation C...|Rmatics Solutions...|     ICT Electronics|     Hyderabad|     Telangana|\n",
      "|Atal Incubation C...|Eurth Techtronics...|     ICT Electronics|    Vijayawada|Andhra Pradesh|\n",
      "|                 BEA|  Ozzie Technologies|Information Techn...|       Kolkata|   West Bengal|\n",
      "|Bio-incubator at ...|Predible Health P...|          Healthcare|     Bengaluru|     Karnataka|\n",
      "|Bio-incubator at ...|Personal Air Qual...|Product designer ...|     Bengaluru|     Karnataka|\n",
      "|Bio-incubator at ...|Salcit Technologi...|      Digital Health|     Hyderabad|     Telangana|\n",
      "|Bio-incubator at ...|AgSmartic Technol...|            Agritech|     New Delhi|       Unknown|\n",
      "|Bio-incubator at ...|Aikenist Technolo...|      Digital Health|     Bengaluru|     Karnataka|\n",
      "|Bio-incubator at ...|    ARQ Solution LLP|          Healthcare|        Mumbai|   Maharashtra|\n",
      "|Bio-incubator at ...|Xensible Innovati...|      Digital Health|     Bengaluru|     Karnataka|\n",
      "|Bio-incubator at ...|Sensai Healthcare...|      Digital Health|     Bengaluru|     Karnataka|\n",
      "|Centre for Innova...|Rekindle Automati...|          Healthcare|       Chennai|     Tamilnadu|\n",
      "|Centre for Innova...|Hivericks Technol...|          Clean Tech|       Chennai|     Tamilnadu|\n",
      "|Centre for Innova...|MedCuore Medical ...|          Retail CRM|       Chennai|     Tamilnadu|\n",
      "|Centre for Innova...|MedCuore Medical ...|          Healthcare|       Chennai|     Tamilnadu|\n",
      "|Centre for Innova...|     Nandha Infotech|         Agriculture|    Coimbatore|    Tamil Nadu|\n",
      "|Chitkara innovati...|Xovian Aerospace ...|Aerospace and def...|     Bengaluru|     Karnataka|\n",
      "|Chitkara innovati...|Dagriation Soluti...|    IT & Electronics|        Karnal|       Unknown|\n",
      "|Chitkara innovati...|Murph Technologie...|                 IOT|    Chandigarh|       Unknown|\n",
      "|Chitkara innovati...|  6DOF Solutions LLP|               AR/VR|    Chandigarh|       Unknown|\n",
      "|Chitkara innovati...|Hackspace Securit...|          Healthcare|         Delhi|         Delhi|\n",
      "|Chitkara innovati...|Sustainergic Tech...|                 IOT|    Chandigarh|       Unknown|\n",
      "|    CIIE Initiatives|            GalaxEye|Smart infrastructure|       Chennai|     Tamilnadu|\n",
      "|    CIIE Initiatives|Extrawatts Renewa...|Cleantech and Env...|     New Delhi|       Unknown|\n",
      "|    CIIE Initiatives|      Urban Air Labs|          Clean tech|         Delhi|         Delhi|\n",
      "|    CIIE Initiatives|Nunam Technology ...|           Cleantech|     Bengaluru|     Karnataka|\n",
      "|    CIIE Initiatives|             Kidaura|          Healthcare|        Nashik|   Maharashtra|\n",
      "|    CIIE Initiatives|        Aiborne Tech|   Skilling & Edtech|         Delhi|         Delhi|\n",
      "|    CIIE Initiatives|      Pacify Medical|          Healthcare|        Mumbai|   Maharashtra|\n",
      "|    CIIE Initiatives|             Evoluto|          Healthcare|     Bengaluru|     Karnataka|\n",
      "|    CIIE Initiatives|     Redicine Medsol|          Healthcare|     Ahmedabad|       Gujarat|\n",
      "|    CIIE Initiatives|           Minocular|Smart infrastruct...|        Raipur|       Unknown|\n",
      "|    CIIE Initiatives|Godaam Innovation...|            Agritech|        Nashik|   Maharashtra|\n",
      "|    CIIE Initiatives|  Articulus Surgical|          Healthcare|     Bengaluru|     Karnataka|\n",
      "|                CTIE|Encephalon Solutions|             Medical|         Hubli|     Karnataka|\n",
      "|    DERBI Foundation|Backyard Creators...|          Healthcare|      Madhurai|       Unknown|\n",
      "|    DERBI Foundation|   Machphy Solutions|          Healthcare|   Bhubaneswar|       Unknown|\n",
      "|    DERBI Foundation|  Fititout Solutions|          Healthcare|       Chennai|     Tamilnadu|\n",
      "|    DERBI Foundation|Carbon Hubs Priva...|Clean and Health ...|     Bengaluru|     Karnataka|\n",
      "|    DERBI Foundation|Prayasta 3D Inven...|          Healthcare|     Bengaluru|     Karnataka|\n",
      "|    DERBI Foundation|Acculi Labs Pvt Ltd.|          Healthcare|     Bengaluru|     Karnataka|\n",
      "|    DERBI Foundation|Hinnts Consultanc...|          Healthcare|     Bengaluru|     Karnataka|\n",
      "|FIRST SIIC IIT Ka...|WeRehab Technolog...|         Health Tech|        Kanpur| Uttar Pradesh|\n",
      "|FIRST SIIC IIT Ka...|Campus Haat Solut...|     Social Commerce|        Kanpur| Uttar Pradesh|\n",
      "|     FITT, IIT Delhi|Dweepi Innovation...|Railways, transpo...| Visakhapatnam|       Unknown|\n",
      "|     FITT, IIT Delhi|Trydan Motors Pri...|          E-mobility|     New Delhi|       Unknown|\n",
      "|     FITT, IIT Delhi|Let's Farm (Shvaa...|           Agri-Tech|        Jaipur|     Rajasthan|\n",
      "|     FITT, IIT Delhi|Ambrosius Tech Pv...|              EdTech|        Satara|   Maharashtra|\n",
      "|     FITT, IIT Delhi|Materate Educatio...|           Education|     New Delhi|       Unknown|\n",
      "|     FITT, IIT Delhi|Neem Tree Agro So...|            AgriTech|         Delhi|         Delhi|\n",
      "|     FITT, IIT Delhi|MeuKron Technologies|          Healthcare|      Belagavi|     Karnataka|\n",
      "|     FITT, IIT Delhi|NextLeap Aeronaut...|Aerospace, UAV, D...|     Bengaluru|     Karnataka|\n",
      "|     FITT, IIT Delhi|Andromeida Mariti...|            Robotics|      Gurugram|       Haryana|\n",
      "|     FITT, IIT Delhi|  Ominar Innovations|Digital Health he...|     DIAT Pune|   Maharashtra|\n",
      "|Forge (Coimbatore...|BigDipper Explora...|          Space Tech|         Delhi|         Delhi|\n",
      "|Forge (Coimbatore...|Abhaya Informatio...| Digital Health Tech|        Mumbai|   Maharashtra|\n",
      "|Forge (Coimbatore...|TestedOK Technolo...|Industrial Digita...|    Coimbatore|    Tamil Nadu|\n",
      "|Forge (Coimbatore...|        PQSI Digital|Industry Digital ...|       Chennai|     Tamilnadu|\n",
      "|Forge (Coimbatore...|Torus Robotics Pv...|     Future Mobility|       Chennai|     Tamilnadu|\n",
      "|Forge (Coimbatore...|ExactSpace Techno...|Industrial Digita...|     Bengaluru|     Karnataka|\n",
      "|Forge (Coimbatore...|      Aindra Systems| Digital Health Tech|     Bengaluru|     Karnataka|\n",
      "|Forge (Coimbatore...|Blackfrog Technol...| Digital Health Tech|       Manipal|     Karnataka|\n",
      "|Foundation for Te...|Yarev Technology ...|                 IoT|      Rourkela|       Unknown|\n",
      "|Foundation for Te...|Clavictor Academy...|Education Technology|      Rourkela|       Unknown|\n",
      "|Foundation for Te...|Coratia Technologies|            Robotics|      Rourkela|       Unknown|\n",
      "|Foundation for Te...|   Quidle Enterprise|IoT and consumer ...|      Rourkela|       Unknown|\n",
      "|Grameena Incubati...|            Transity|   Agri-Supply Chain|       Chennai|     Tamilnadu|\n",
      "|Grameena Incubati...|              TraceX|         Block chain|     Bengaluru|     Karnataka|\n",
      "|Grameena Incubati...|\"\"\"Temperate Tech...|Cold Storage Solu...|     Hyderabad|     Telangana|\n",
      "|Gujarat Universit...|            Multplyr| Enterprise Solution|     Ahmedabad|       Gujarat|\n",
      "|Gujarat Universit...|Quixote Automotiv...|               AI/ML|     Ahmedabad|       Gujarat|\n",
      "|Gujarat Universit...|Plutomen Technolo...|         VR/AR/MR/XR|     Ahmedabad|       Gujarat|\n",
      "|Gujarat Universit...|    IEIDidactics LLP|           Education|      Vadodara|       Unknown|\n",
      "|Gujarat Universit...|           UrbanKHET|         Agriculture|     Ahmedabad|       Gujarat|\n",
      "|Gujarat Universit...|E-Vega Mobility Labs|        Clean Energy|     Ahmedabad|       Gujarat|\n",
      "|Gujarat Universit...|microfinance.ai -...| Financial Inclusion|         Delhi|         Delhi|\n",
      "|Gujarat Universit...|Waste Tracker - T...|         Environment|    Jamshedpur|       Unknown|\n",
      "|IIIT B Innovation...|DeepVisionTech Pv...|Multiple (Assisti...|     Bengaluru|     Karnataka|\n",
      "|IIIT B Innovation...|              Breezy|Environment, Tech...|     Bengaluru|     Karnataka|\n",
      "|IIIT B Innovation...|         HAVELI UAVs|Skill Development...|     Bengaluru|     Karnataka|\n",
      "|IIITD Innovation ...|  Tweek Labs Pvt Ltd|            AI & IOT|     New Delhi|       Unknown|\n",
      "|IIITD Innovation ...|Shasmith Technolo...|   Health Technology|     New Delhi|       Unknown|\n",
      "|IIITD Innovation ...|Eleqtrasoft Educa...|Education Technology|     New Delhi|       Unknown|\n",
      "|IIITD Innovation ...|Fin Lit Project S...|Education Technology|       Lucknow| Uttar Pradesh|\n",
      "|IIITD Innovation ...|    ShikshAI Pvt Ltd|Education Technology|       Kolkata|   West Bengal|\n",
      "|IIITD Innovation ...|Swapeco Solutions...|    Waste Management|     New Delhi|       Unknown|\n",
      "|IIITD Innovation ...|Embedsense Soluti...|Manufacturing IOT...|     Bengaluru|     Karnataka|\n",
      "|IIM Udaipur Incub...|Yobny Technology ...|multi-sector (B2B...|     Bengaluru|     Karnataka|\n",
      "|IIM Udaipur Incub...|Statlogic India P...|            Agritech|     Bengaluru|     Karnataka|\n",
      "|IIM Udaipur Incub...|Arktane Technolog...|            Aviation|         Noida| Uttar Pradesh|\n",
      "|          IIT Kanpur|Arthavedika Tech ...|             Fintech|         Noida| Uttar Pradesh|\n",
      "|  IIT Mandi Catalyst|Datalytics Techno...|Business Intelleg...|        Nagpur|   Maharashtra|\n",
      "|  IIT Mandi Catalyst|Elight SPM OPC Pv...|           Dronetech|     New Delhi|       Unknown|\n",
      "|  IIT Mandi Catalyst|DatumM Tech-Solut...|     Medical Devices|        Kangra|            Hp|\n",
      "|  IIT Mandi Catalyst|            IntelVib|       Manufacturing|     DIAT Pune|   Maharashtra|\n",
      "|  IIT Mandi Catalyst|Farm Intelligent ...|Agri Tech, Robotics,|     DIAT Pune|   Maharashtra|\n",
      "|  IIT Mandi Catalyst|    Coding Made Easy|Information Techn...|      Warangal|       Unknown|\n",
      "|  IIT Mandi Catalyst|                ECOC|   Electric Bicycles|      Warangal|       Unknown|\n",
      "|IITM Incubation Cell|ISMO Biophotonics...|Biotech/ Bio-info...|       Chennai|     Tamilnadu|\n",
      "|IITM Incubation Cell|C3 Medtech Privat...|          Healthcare|       Chennai|     Tamilnadu|\n",
      "|IITM Incubation Cell|Dextroware Device...|          Healthcare|       Chennai|     Tamilnadu|\n",
      "|IITM Incubation Cell|InuAid Solutions ...|Artificial Intell...|       Chennai|     Tamilnadu|\n",
      "|IITM Incubation Cell|Revoh Innovations...|Infra and Transpo...|       Chennai|     Tamilnadu|\n",
      "|IITM Incubation Cell|Good Move Logisti...|           Logistics|       Chennai|     Tamilnadu|\n",
      "|INurture Incubati...|Hawaiadda Aerial ...| Aerospace & Defence|     Ghaziabad| Uttar Pradesh|\n",
      "|JECRC Incubation ...|Botnomics Techrol...|Information Techn...|     Hyderabad|     Telangana|\n",
      "|JECRC Incubation ...|Aloe Ecell Pvt. Ltd.|              Energy|       Lucknow| Uttar Pradesh|\n",
      "|JECRC Incubation ...|            Dexterio|                 ICT|        Jaipur|     Rajasthan|\n",
      "|JECRC Incubation ...|         Retail Setu|           Ecommerce|Singrauli (mp)|       Unknown|\n",
      "|JECRC Incubation ...|              Show-U|                 ICT|       Udaipur|       Unknown|\n",
      "|JECRC Incubation ...|Repobuild IT Solu...|                  HR|        Jaipur|     Rajasthan|\n",
      "|JECRC Incubation ...|  ED Apply Pvt. Ltd.|              EdTech|        Jaipur|     Rajasthan|\n",
      "|JECRC Incubation ...|      Puaerte Visual|         Design Tech|        Jaipur|     Rajasthan|\n",
      "|            KLE CTIE|Astr Tactical Pri...|   Tactical Products|         Hubli|     Karnataka|\n",
      "|Koneru Lakshmaiah...|MILATRONICS PRIVA...|         AGRICULTURE|   Mudavadibba|Andhra Pradesh|\n",
      "|Koneru Lakshmaiah...|Uplink-Automation...|IoT- manufacturin...|    Vijayawada|Andhra Pradesh|\n",
      "|Koneru Lakshmaiah...|Seeram Innovation...|       Manufacturing|     Tadepalli|Andhra Pradesh|\n",
      "|Koneru Lakshmaiah...|CHEMSENS Technolo...|          Healthcare|    Vijayawada|Andhra Pradesh|\n",
      "|Krishna Path Incu...|Quest educational...|             Edutech|     Ghaziabad| Uttar Pradesh|\n",
      "|Krishna Path Incu...|MOTS Private Limited|              Travel|      Fatehpur| Uttar Pradesh|\n",
      "|Krishna Path Incu...|FARMOCONNECT LLP ...|            Agritech|     Ghaziabad| Uttar Pradesh|\n",
      "|Krishna Path Incu...|   ANI SCRAP PVT LTD|    WASTE MANAGEMENT|     Ghaziabad| Uttar Pradesh|\n",
      "|Krishna Path Incu...|               Dineo|                  IT|        Jaipur|     Rajasthan|\n",
      "|Krishna Path Incu...|Bhurak Technologi...|A.I. (Computer Vi...|    Saharanpur| Uttar Pradesh|\n",
      "|NSRCEL, IIM Banga...|MedPiper Technolo...|          Healthtech|     Bengaluru|     Karnataka|\n",
      "|NSRCEL, IIM Banga...|(Solvio) Curious ...|Education Technology|     Bengaluru|     Karnataka|\n",
      "|Pilani Innovation...|             Nawgati|            Mobility|      Gurugram|       Haryana|\n",
      "|Pilani Innovation...|               Adnue|Advertising Techn...|       Jodhpur|       Unknown|\n",
      "|Pilani Innovation...|      Medsupervision|          Healthcare|     Faridabad|       Unknown|\n",
      "|Pilani Innovation...|            Nirogyan|          Healthcare|     New Delhi|       Unknown|\n",
      "|Pilani Innovation...|    Valerio Electric|   Electric Vechiles|     New Delhi|       Unknown|\n",
      "|Pilani Innovation...|              Syzygy|          Healthcare|        Jaipur|     Rajasthan|\n",
      "|Pilani Innovation...|          Urbantrack|Urban Transportation|        Pilani|       Unknown|\n",
      "|Pilani Innovation...|           Greynight|          Space Tech|     Bengaluru|     Karnataka|\n",
      "|Pilani Innovation...|            Finquant|        MicroFinance|    Hazartganj|       Unknown|\n",
      "|PSG - Science and...|Dot World Technol...|Robotics / Automa...|    Coimbatore|    Tamil Nadu|\n",
      "|PSG - Science and...|            Agna Inc|         Bio Medical|    Coimbatore|    Tamil Nadu|\n",
      "|PSG - Science and...|Embedded Shastra ...|           Edutech /|    Coimbatore|    Tamil Nadu|\n",
      "|PSG - Science and...|Mechcreatio Indus...|            Agritech|    Coimbatore|    Tamil Nadu|\n",
      "|PSG - Science and...|Switch Mobility P...|         Electronics|     Bengaluru|     Karnataka|\n",
      "|Sandip Incubation...|Duende Ingenious LLP|   Rural Development|        Nashik|   Maharashtra|\n",
      "|Sandip Incubation...|    Management Forum|            Infotech|        Nashik|   Maharashtra|\n",
      "|Sandip Incubation...|Payveb Resources ...|IT, IoT, Retail, ...|        Nashik|   Maharashtra|\n",
      "|Sandip Incubation...|             Drishte|                  Ai|     Hyderabad|     Telangana|\n",
      "|    SIIC, IIT Kanpur|PATS Literary Sol...|Education, Media ...|        Kanpur| Uttar Pradesh|\n",
      "|                SIIC|Hacklab Solutions...|Industrial Automa...|     Bengaluru|     Karnataka|\n",
      "|                SIIC|Airth Research Pr...|          Healthcare|         Delhi|         Delhi|\n",
      "|    SIIC, IIT Kanpur|E-Trainer Analyti...|            Fit-Tech|     New Delhi|       Unknown|\n",
      "|    SIIC, IIT Kanpur|Invariance Automa...|Industrial Automa...|        Kanpur| Uttar Pradesh|\n",
      "|    SIIC, IIT Kanpur|Neoperk Technolog...|Agri-Tech - Soil ...|        Mumbai|   Maharashtra|\n",
      "|    SIIC, IIT Kanpur|WeRehab Technolog...|         Health tech|        Nagpur|   Maharashtra|\n",
      "|    SIIC, IIT Kanpur|Life and Limb (P)...|         Health-Tech|        Kanpur| Uttar Pradesh|\n",
      "|    SIIC, IIT Kanpur|  Offgrid EnergyLabs|        Clean Energy|        Kanpur| Uttar Pradesh|\n",
      "|    SIIC, IIT Kanpur|?GeoWiz Consultan...|Geospatial data s...|        Kanpur| Uttar Pradesh|\n",
      "|    SIIC, IIT Kanpur|E-Trainer Analyti...|            Fit-Tech|     New Delhi|       Unknown|\n",
      "|    SIIC, IIT Kanpur|Reolo Holographic...|               AR/VR|     Ahmedabad|       Gujarat|\n",
      "|    SIIC, IIT Kanpur|WUS ( Product of ...|\"\"\"Low Income Wor...|     Panchkula|       Unknown|\n",
      "|    SIIC, IIT Kanpur|Cycle spirit Pvt Ltd|   Electric vehicles|        Kanpur| Uttar Pradesh|\n",
      "|    SIIC, IIT Kanpur|ClaitoVision Tecn...|  Health and FItness|         Thane|   Maharashtra|\n",
      "|    SIIC, IIT Kanpur|WeRehab Technolog...|          Healthtech|        Kanpur| Uttar Pradesh|\n",
      "|    SIIC, IIT Kanpur|            CASHYEAR|             FINTECH|       Lucknow| Uttar Pradesh|\n",
      "|    SIIC, IIT Kanpur|InvoViron Industr...|Waste to Value (B...|        Kanpur| Uttar Pradesh|\n",
      "|    SIIC, IIT Kanpur|HINDONICS TECHNOL...| Hardware Technology|     Gorakhpur|       Unknown|\n",
      "|Society for Innov...|Ixar Robotic Solu...|  Under water vehcle|        Mumbai|   Maharashtra|\n",
      "|Society for Innov...|Micob Private Lim...|        Construction|   Gandhinagar|       Unknown|\n",
      "|Society for Innov...|Udayan Ecotech Pv...|                  EV|     DIAT Pune|   Maharashtra|\n",
      "|Society for Innov...|Incorporation yet...|             EduTech|            Na|       Unknown|\n",
      "|Society for Innov...|Bramhansh Technol...|          Healthcare|   Chattisgarh|       Unknown|\n",
      "|Society for Innov...|Clairvoyance Mind...|          Healthcare|     DIAT Pune|   Maharashtra|\n",
      "|Society for Innov...|Chainworks Digita...|          Healthcare|        Mumbai|   Maharashtra|\n",
      "|Society for Innov...|Whiteowl Healthca...|          Healthcare|     Hyderabad|     Telangana|\n",
      "|Society for Innov...|Faucet Labs Priva...|             FinTech|         Delhi|         Delhi|\n",
      "|Society for Innov...|Develop Train Mai...|           CleanTech|    Ulhasnagar|   Maharashtra|\n",
      "|Society for Innov...|Incorporation yet...|             EduTech|            Na|       Unknown|\n",
      "+--------------------+--------------------+--------------------+--------------+--------------+\n",
      "only showing top 200 rows\n",
      "\n"
     ]
    }
   ],
   "source": [
    "startup = startup.withColumn('state', when(startup.state.isNull(),'Unknown').otherwise(startup.state))\n",
    "startup.show(200)"
   ]
  },
  {
   "cell_type": "code",
   "execution_count": 420,
   "id": "00aff354",
   "metadata": {},
   "outputs": [
    {
     "name": "stdout",
     "output_type": "stream",
     "text": [
      "+--------------------+--------------------+--------------------+--------------------+-------+\n",
      "|   Incubation_Center|     Name_of_startup|              Sector|                city|  state|\n",
      "+--------------------+--------------------+--------------------+--------------------+-------+\n",
      "|      ABES Ghaziabad|            Suryansh|              EdTech|           New Delhi|Unknown|\n",
      "|           AIC@36Inc|               TECHB|3d printer and cn...|              Bhilai|Unknown|\n",
      "|           AIC@36Inc|Acculegal Service...|Finance, Legal , ...|              Raipur|Unknown|\n",
      "|           AIC@36Inc|Bastar Se Bazar T...|       Agri-business|        Uttar Bastar|Unknown|\n",
      "|           AIC@36Inc|          Coshal Art|          Handicraft|              Raipur|Unknown|\n",
      "|           AIC@36Inc|           Jivandeep|          Healthcare|              Raipur|Unknown|\n",
      "|           AIC@36Inc|  Binomial Analytics|IT and Technology...|              Raipur|Unknown|\n",
      "|           AIC@36Inc|              Rawfit|Heathcare & Wellness|              Raipur|Unknown|\n",
      "|           AIC@36Inc|           WedNicely|eInvitations & We...|              Raipur|Unknown|\n",
      "|Bio-incubator at ...|AgSmartic Technol...|            Agritech|           New Delhi|Unknown|\n",
      "|Chitkara innovati...|Dagriation Soluti...|    IT & Electronics|              Karnal|Unknown|\n",
      "|Chitkara innovati...|Murph Technologie...|                 IOT|          Chandigarh|Unknown|\n",
      "|Chitkara innovati...|  6DOF Solutions LLP|               AR/VR|          Chandigarh|Unknown|\n",
      "|Chitkara innovati...|Sustainergic Tech...|                 IOT|          Chandigarh|Unknown|\n",
      "|    CIIE Initiatives|Extrawatts Renewa...|Cleantech and Env...|           New Delhi|Unknown|\n",
      "|    CIIE Initiatives|           Minocular|Smart infrastruct...|              Raipur|Unknown|\n",
      "|    DERBI Foundation|Backyard Creators...|          Healthcare|            Madhurai|Unknown|\n",
      "|    DERBI Foundation|   Machphy Solutions|          Healthcare|         Bhubaneswar|Unknown|\n",
      "|     FITT, IIT Delhi|Dweepi Innovation...|Railways, transpo...|       Visakhapatnam|Unknown|\n",
      "|     FITT, IIT Delhi|Trydan Motors Pri...|          E-mobility|           New Delhi|Unknown|\n",
      "|     FITT, IIT Delhi|Materate Educatio...|           Education|           New Delhi|Unknown|\n",
      "|Foundation for Te...|Yarev Technology ...|                 IoT|            Rourkela|Unknown|\n",
      "|Foundation for Te...|Clavictor Academy...|Education Technology|            Rourkela|Unknown|\n",
      "|Foundation for Te...|Coratia Technologies|            Robotics|            Rourkela|Unknown|\n",
      "|Foundation for Te...|   Quidle Enterprise|IoT and consumer ...|            Rourkela|Unknown|\n",
      "|Gujarat Universit...|    IEIDidactics LLP|           Education|            Vadodara|Unknown|\n",
      "|Gujarat Universit...|Waste Tracker - T...|         Environment|          Jamshedpur|Unknown|\n",
      "|IIITD Innovation ...|  Tweek Labs Pvt Ltd|            AI & IOT|           New Delhi|Unknown|\n",
      "|IIITD Innovation ...|Shasmith Technolo...|   Health Technology|           New Delhi|Unknown|\n",
      "|IIITD Innovation ...|Eleqtrasoft Educa...|Education Technology|           New Delhi|Unknown|\n",
      "|IIITD Innovation ...|Swapeco Solutions...|    Waste Management|           New Delhi|Unknown|\n",
      "|  IIT Mandi Catalyst|Elight SPM OPC Pv...|           Dronetech|           New Delhi|Unknown|\n",
      "|  IIT Mandi Catalyst|    Coding Made Easy|Information Techn...|            Warangal|Unknown|\n",
      "|  IIT Mandi Catalyst|                ECOC|   Electric Bicycles|            Warangal|Unknown|\n",
      "|JECRC Incubation ...|         Retail Setu|           Ecommerce|      Singrauli (mp)|Unknown|\n",
      "|JECRC Incubation ...|              Show-U|                 ICT|             Udaipur|Unknown|\n",
      "|Pilani Innovation...|               Adnue|Advertising Techn...|             Jodhpur|Unknown|\n",
      "|Pilani Innovation...|      Medsupervision|          Healthcare|           Faridabad|Unknown|\n",
      "|Pilani Innovation...|            Nirogyan|          Healthcare|           New Delhi|Unknown|\n",
      "|Pilani Innovation...|    Valerio Electric|   Electric Vechiles|           New Delhi|Unknown|\n",
      "|Pilani Innovation...|          Urbantrack|Urban Transportation|              Pilani|Unknown|\n",
      "|Pilani Innovation...|            Finquant|        MicroFinance|          Hazartganj|Unknown|\n",
      "|    SIIC, IIT Kanpur|E-Trainer Analyti...|            Fit-Tech|           New Delhi|Unknown|\n",
      "|    SIIC, IIT Kanpur|E-Trainer Analyti...|            Fit-Tech|           New Delhi|Unknown|\n",
      "|    SIIC, IIT Kanpur|WUS ( Product of ...|\"\"\"Low Income Wor...|           Panchkula|Unknown|\n",
      "|    SIIC, IIT Kanpur|HINDONICS TECHNOL...| Hardware Technology|           Gorakhpur|Unknown|\n",
      "|Society for Innov...|Micob Private Lim...|        Construction|         Gandhinagar|Unknown|\n",
      "|Society for Innov...|Incorporation yet...|             EduTech|                  Na|Unknown|\n",
      "|Society for Innov...|Bramhansh Technol...|          Healthcare|         Chattisgarh|Unknown|\n",
      "|Society for Innov...|Incorporation yet...|             EduTech|                  Na|Unknown|\n",
      "|SR Foundation (SR...|MHfictio Creation...|           ICT & IoT|            Warangal|Unknown|\n",
      "|SR Foundation (SR...|GARUDAASTRA Aeroi...|Aerospace and Def...|            Begumpet|Unknown|\n",
      "|SR Foundation (SR...|Viben QR Innovations|            Services|            Warangal|Unknown|\n",
      "| STEP - TIET Patiala|          Monsys IoT|Electronics and W...|             Patiala|Unknown|\n",
      "| STEP - TIET Patiala|Minus Zero Roboti...|Autonomous Vehicl...|             Patiala|Unknown|\n",
      "| STEP - TIET Patiala|Tensor Matics Pvt...|             AI - ML|Tensor Matics Pvt...|Unknown|\n",
      "|TIDES Business In...|Virbhadra Implant...|      Medical Device|            Dehradun|Unknown|\n",
      "|TIDES Business In...|Fermentech Labs P...|       Biotechnology|             Roorkee|Unknown|\n",
      "|TIDES Business In...|Raikamal Bhattach...|Bioprocess and ag...|         Iit Roorkee|Unknown|\n",
      "|TIDES Business In...|Biofluidics Innov...|          Healthcare|             Roorkee|Unknown|\n",
      "|TIIC, ABV-IIITM, ...|Identifying priva...|         IT/Modeling|             Gwalior|Unknown|\n",
      "|TIIC, ABV-IIITM, ...|IOT Based Smart D...|                 IOT|             Gwalior|Unknown|\n",
      "|TIIC, ABV-IIITM, ...|Virtual Lab on Da...|                  AI|             Gwalior|Unknown|\n",
      "|TIIC, ABV-IIITM, ...|Development of IO...|                 IOT|             Gwalior|Unknown|\n",
      "|TIIC, ABV-IIITM, ...|SehatOne � Compre...|          Healthcare|             Gwalior|Unknown|\n",
      "|              VITTBI|MR.Abhishek Kumar...|                 IoT|              Indore|Unknown|\n",
      "|              VITTBI|GREEN DOMAIN ENER...|IOT based Renewab...|     Kahalgaon Bihar|Unknown|\n",
      "|              VITTBI|Movio Technologie...|                  EV|         Chattisgarh|Unknown|\n",
      "+--------------------+--------------------+--------------------+--------------------+-------+\n",
      "\n"
     ]
    }
   ],
   "source": [
    "startup.filter(startup.state=='Unknown').show(200)"
   ]
  },
  {
   "cell_type": "code",
   "execution_count": null,
   "id": "d4f9fe0f",
   "metadata": {},
   "outputs": [],
   "source": []
  }
 ],
 "metadata": {
  "kernelspec": {
   "display_name": "Python 3",
   "language": "python",
   "name": "python3"
  },
  "language_info": {
   "codemirror_mode": {
    "name": "ipython",
    "version": 3
   },
   "file_extension": ".py",
   "mimetype": "text/x-python",
   "name": "python",
   "nbconvert_exporter": "python",
   "pygments_lexer": "ipython3",
   "version": "3.12.2"
  }
 },
 "nbformat": 4,
 "nbformat_minor": 5
}
